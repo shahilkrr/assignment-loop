{
 "cells": [
  {
   "cell_type": "code",
   "execution_count": null,
   "id": "ed77b037-6338-4704-a386-787e47614c62",
   "metadata": {},
   "outputs": [],
   "source": [
    "#Question 1"
   ]
  },
  {
   "cell_type": "markdown",
   "id": "ef432167-7332-4d57-be0f-ad8d0b78cbca",
   "metadata": {},
   "source": [
    "For Loop - The loop will execute a block of statements for each item in the sequence.\n",
    "\n",
    "While Loop - The loop will continue to run as long as the condition remains true."
   ]
  },
  {
   "cell_type": "code",
   "execution_count": null,
   "id": "7754c20f-38ae-48e1-b90d-4f5074aa9478",
   "metadata": {},
   "outputs": [],
   "source": [
    "#Question 2"
   ]
  },
  {
   "cell_type": "markdown",
   "id": "7408b843-d885-43d9-afb1-cb328f76a3d6",
   "metadata": {},
   "source": [
    "Sum and product using For Loop "
   ]
  },
  {
   "cell_type": "code",
   "execution_count": 9,
   "id": "12be339f-6f0e-4611-9fe4-84b5a7e12211",
   "metadata": {},
   "outputs": [
    {
     "data": {
      "text/plain": [
       "55"
      ]
     },
     "execution_count": 9,
     "metadata": {},
     "output_type": "execute_result"
    }
   ],
   "source": [
    "sum = 0\n",
    "for i in range(0,11):\n",
    "    sum = sum + i\n",
    "sum"
   ]
  },
  {
   "cell_type": "code",
   "execution_count": 11,
   "id": "402980eb-7d83-4df2-bd2f-c135620a94fe",
   "metadata": {},
   "outputs": [
    {
     "data": {
      "text/plain": [
       "3628800"
      ]
     },
     "execution_count": 11,
     "metadata": {},
     "output_type": "execute_result"
    }
   ],
   "source": [
    "product = 1\n",
    "for i in range(1,11) :\n",
    "    product = product * i\n",
    "product"
   ]
  },
  {
   "cell_type": "raw",
   "id": "3e8d93e3-c4bd-4bfb-852a-29fae4fa169c",
   "metadata": {},
   "source": [
    "Using while loop"
   ]
  },
  {
   "cell_type": "code",
   "execution_count": null,
   "id": "e86ef384-a823-4ba6-8711-32ba9b835d02",
   "metadata": {},
   "outputs": [],
   "source": [
    "a = 1\n",
    "sum = 0\n",
    "while a <= 10 :\n",
    "    sum = sum + a\n",
    "    a = a + 1\n",
    "sum"
   ]
  },
  {
   "cell_type": "code",
   "execution_count": null,
   "id": "5dd0de8f-8155-487b-b6e6-2ac33419d48d",
   "metadata": {},
   "outputs": [],
   "source": [
    "product = 1\n",
    "a = 1\n",
    "while a <= 10:\n",
    "    product = product * a\n",
    "    a = a + 1\n",
    "product"
   ]
  },
  {
   "cell_type": "code",
   "execution_count": null,
   "id": "1c7a8aef-aa8b-41cb-9961-2b38253e715a",
   "metadata": {},
   "outputs": [],
   "source": [
    "#Question 3"
   ]
  },
  {
   "cell_type": "code",
   "execution_count": 1,
   "id": "9b2a765e-82a0-47ae-81e0-ea2252c44f9a",
   "metadata": {},
   "outputs": [
    {
     "name": "stdin",
     "output_type": "stream",
     "text": [
      "enter electricity unit 310\n"
     ]
    },
    {
     "name": "stdout",
     "output_type": "stream",
     "text": [
      "2250.0\n"
     ]
    }
   ],
   "source": [
    "unit = int(input(\"enter electricity unit\"))\n",
    "bill = 0\n",
    "if unit <=100:\n",
    "    bill = unit*4.5\n",
    "elif unit > 100 and unit <= 200:\n",
    "    bill = 100*4.5 + (unit - 100)*6\n",
    "elif unit > 200 and unit <= 300:\n",
    "    bill = 100*4.5 + 100*6 + (unit - 100)*10\n",
    "else:\n",
    "    bill = 100*4.5+100*6+100*10+(unit - 300)*20\n",
    "print(bill)"
   ]
  },
  {
   "cell_type": "code",
   "execution_count": 11,
   "id": "accc0378-44dd-4141-a383-268e56289a60",
   "metadata": {},
   "outputs": [],
   "source": [
    "#Question 4"
   ]
  },
  {
   "cell_type": "code",
   "execution_count": 7,
   "id": "ad380596-23a5-4ff2-8d90-d81a4ef16275",
   "metadata": {},
   "outputs": [],
   "source": [
    "l = []\n",
    "for i in range(1,101):\n",
    "    l.append(i**3)"
   ]
  },
  {
   "cell_type": "code",
   "execution_count": 8,
   "id": "07eb0bfe-96f7-436a-8f44-07cf553e1549",
   "metadata": {},
   "outputs": [
    {
     "name": "stdout",
     "output_type": "stream",
     "text": [
      "[1, 8, 27, 64, 125, 216, 343, 512, 729, 1000, 1331, 1728, 2197, 2744, 3375, 4096, 4913, 5832, 6859, 8000, 9261, 10648, 12167, 13824, 15625, 17576, 19683, 21952, 24389, 27000, 29791, 32768, 35937, 39304, 42875, 46656, 50653, 54872, 59319, 64000, 68921, 74088, 79507, 85184, 91125, 97336, 103823, 110592, 117649, 125000, 132651, 140608, 148877, 157464, 166375, 175616, 185193, 195112, 205379, 216000, 226981, 238328, 250047, 262144, 274625, 287496, 300763, 314432, 328509, 343000, 357911, 373248, 389017, 405224, 421875, 438976, 456533, 474552, 493039, 512000, 531441, 551368, 571787, 592704, 614125, 636056, 658503, 681472, 704969, 729000, 753571, 778688, 804357, 830584, 857375, 884736, 912673, 941192, 970299, 1000000]\n"
     ]
    }
   ],
   "source": [
    "print(l)"
   ]
  },
  {
   "cell_type": "code",
   "execution_count": 9,
   "id": "d9a26d50-cd69-4a91-aa30-3591ca1cfbea",
   "metadata": {},
   "outputs": [],
   "source": [
    "l1 = []\n",
    "for i in l :\n",
    "    if i % 4 == 0 or i % 5 == 0:\n",
    "        l1.append(i)"
   ]
  },
  {
   "cell_type": "code",
   "execution_count": 10,
   "id": "dd1f87fe-abd1-43ad-a4ef-dd10b5f4cef9",
   "metadata": {},
   "outputs": [
    {
     "name": "stdout",
     "output_type": "stream",
     "text": [
      "[8, 64, 125, 216, 512, 1000, 1728, 2744, 3375, 4096, 5832, 8000, 10648, 13824, 15625, 17576, 21952, 27000, 32768, 39304, 42875, 46656, 54872, 64000, 74088, 85184, 91125, 97336, 110592, 125000, 140608, 157464, 166375, 175616, 195112, 216000, 238328, 262144, 274625, 287496, 314432, 343000, 373248, 405224, 421875, 438976, 474552, 512000, 551368, 592704, 614125, 636056, 681472, 729000, 778688, 830584, 857375, 884736, 941192, 1000000]\n"
     ]
    }
   ],
   "source": [
    "print(l1)"
   ]
  },
  {
   "cell_type": "code",
   "execution_count": 1,
   "id": "16749a76-4aae-407c-807e-7d6ddd354c4b",
   "metadata": {},
   "outputs": [],
   "source": [
    "l2 = []\n",
    "a = 1\n",
    "while a <= 100:\n",
    "    l2.append(a**3)\n",
    "    a = a+1        "
   ]
  },
  {
   "cell_type": "code",
   "execution_count": 3,
   "id": "5feb0f6c-8b40-4191-bc46-66c94dfa300d",
   "metadata": {},
   "outputs": [
    {
     "name": "stdout",
     "output_type": "stream",
     "text": [
      "[1, 8, 27, 64, 125, 216, 343, 512, 729, 1000, 1331, 1728, 2197, 2744, 3375, 4096, 4913, 5832, 6859, 8000, 9261, 10648, 12167, 13824, 15625, 17576, 19683, 21952, 24389, 27000, 29791, 32768, 35937, 39304, 42875, 46656, 50653, 54872, 59319, 64000, 68921, 74088, 79507, 85184, 91125, 97336, 103823, 110592, 117649, 125000, 132651, 140608, 148877, 157464, 166375, 175616, 185193, 195112, 205379, 216000, 226981, 238328, 250047, 262144, 274625, 287496, 300763, 314432, 328509, 343000, 357911, 373248, 389017, 405224, 421875, 438976, 456533, 474552, 493039, 512000, 531441, 551368, 571787, 592704, 614125, 636056, 658503, 681472, 704969, 729000, 753571, 778688, 804357, 830584, 857375, 884736, 912673, 941192, 970299, 1000000]\n"
     ]
    }
   ],
   "source": [
    "print(l2)"
   ]
  },
  {
   "cell_type": "code",
   "execution_count": 5,
   "id": "dd91e368-d441-499e-9ea4-5c574b0eaa63",
   "metadata": {},
   "outputs": [],
   "source": [
    "l3 = []\n",
    "for i in l2 :\n",
    "    if i % 4 == 0 or i % 5 == 0:\n",
    "        l3.append(i)"
   ]
  },
  {
   "cell_type": "code",
   "execution_count": 6,
   "id": "9b3f08fe-6ca5-410d-9419-800f519853f3",
   "metadata": {},
   "outputs": [
    {
     "name": "stdout",
     "output_type": "stream",
     "text": [
      "[8, 64, 125, 216, 512, 1000, 1728, 2744, 3375, 4096, 5832, 8000, 10648, 13824, 15625, 17576, 21952, 27000, 32768, 39304, 42875, 46656, 54872, 64000, 74088, 85184, 91125, 97336, 110592, 125000, 140608, 157464, 166375, 175616, 195112, 216000, 238328, 262144, 274625, 287496, 314432, 343000, 373248, 405224, 421875, 438976, 474552, 512000, 551368, 592704, 614125, 636056, 681472, 729000, 778688, 830584, 857375, 884736, 941192, 1000000]\n"
     ]
    }
   ],
   "source": [
    "print(l3)"
   ]
  },
  {
   "cell_type": "code",
   "execution_count": 7,
   "id": "780eeec3-c824-4e6c-82c7-7812050577fb",
   "metadata": {},
   "outputs": [],
   "source": [
    "#Question 5"
   ]
  },
  {
   "cell_type": "code",
   "execution_count": 8,
   "id": "fb24b071-df50-4020-b3ba-9ca682f2e8bf",
   "metadata": {},
   "outputs": [],
   "source": [
    "string = \"I want to become a data scientist\""
   ]
  },
  {
   "cell_type": "code",
   "execution_count": 10,
   "id": "e414408b-ad6f-4d48-88db-830ff93d2c3c",
   "metadata": {},
   "outputs": [],
   "source": [
    "l = ['a','A','e','E','i','I','o','O','u','U']"
   ]
  },
  {
   "cell_type": "code",
   "execution_count": 11,
   "id": "3b662652-d4f6-4df2-bd0a-0462a1fcb280",
   "metadata": {},
   "outputs": [
    {
     "name": "stdout",
     "output_type": "stream",
     "text": [
      "12\n"
     ]
    }
   ],
   "source": [
    "count = 0\n",
    "for i in string :\n",
    "    if i in l :\n",
    "        count = count + 1\n",
    "print(count)"
   ]
  },
  {
   "cell_type": "code",
   "execution_count": null,
   "id": "ff41edac-04e4-4277-a521-ea1ee4579752",
   "metadata": {},
   "outputs": [],
   "source": []
  }
 ],
 "metadata": {
  "kernelspec": {
   "display_name": "Python 3 (ipykernel)",
   "language": "python",
   "name": "python3"
  },
  "language_info": {
   "codemirror_mode": {
    "name": "ipython",
    "version": 3
   },
   "file_extension": ".py",
   "mimetype": "text/x-python",
   "name": "python",
   "nbconvert_exporter": "python",
   "pygments_lexer": "ipython3",
   "version": "3.10.8"
  }
 },
 "nbformat": 4,
 "nbformat_minor": 5
}
